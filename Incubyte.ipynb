{
 "cells": [
  {
   "cell_type": "markdown",
   "id": "26dab7b7",
   "metadata": {},
   "source": [
    "# Assignment in Pyspark\n",
    "\n"
   ]
  },
  {
   "cell_type": "code",
   "execution_count": null,
   "id": "784cdbca",
   "metadata": {},
   "outputs": [],
   "source": [
    "##Creation of spark session\n",
    "from pyspark.sql import SparkSession"
   ]
  },
  {
   "cell_type": "code",
   "execution_count": 60,
   "id": "334986e3",
   "metadata": {},
   "outputs": [],
   "source": [
    "spark=SparkSession.builder.appName('Assignment').getOrCreate()"
   ]
  },
  {
   "cell_type": "code",
   "execution_count": 61,
   "id": "c1ba0f5a",
   "metadata": {},
   "outputs": [],
   "source": [
    "import pandas as pd"
   ]
  },
  {
   "cell_type": "code",
   "execution_count": 62,
   "id": "0a312d43",
   "metadata": {},
   "outputs": [
    {
     "data": {
      "text/html": [
       "<div>\n",
       "<style scoped>\n",
       "    .dataframe tbody tr th:only-of-type {\n",
       "        vertical-align: middle;\n",
       "    }\n",
       "\n",
       "    .dataframe tbody tr th {\n",
       "        vertical-align: top;\n",
       "    }\n",
       "\n",
       "    .dataframe thead th {\n",
       "        text-align: right;\n",
       "    }\n",
       "</style>\n",
       "<table border=\"1\" class=\"dataframe\">\n",
       "  <thead>\n",
       "    <tr style=\"text-align: right;\">\n",
       "      <th></th>\n",
       "      <th>Unique ID</th>\n",
       "      <th>Patient Name</th>\n",
       "      <th>Vaccine Type</th>\n",
       "      <th>Date of Birth</th>\n",
       "      <th>Date of Vaccination</th>\n",
       "    </tr>\n",
       "  </thead>\n",
       "  <tbody>\n",
       "    <tr>\n",
       "      <th>0</th>\n",
       "      <td>1</td>\n",
       "      <td>Mike</td>\n",
       "      <td>LMN</td>\n",
       "      <td>NaT</td>\n",
       "      <td>2022-05-11 00:00:00</td>\n",
       "    </tr>\n",
       "    <tr>\n",
       "      <th>1</th>\n",
       "      <td>2</td>\n",
       "      <td>Jonnathan</td>\n",
       "      <td>XYZ</td>\n",
       "      <td>1997-12-13</td>\n",
       "      <td>2021-13-13</td>\n",
       "    </tr>\n",
       "    <tr>\n",
       "      <th>2</th>\n",
       "      <td>3</td>\n",
       "      <td>Cristina</td>\n",
       "      <td>ABC</td>\n",
       "      <td>1998-03-12</td>\n",
       "      <td>2022-03-12 00:00:00</td>\n",
       "    </tr>\n",
       "  </tbody>\n",
       "</table>\n",
       "</div>"
      ],
      "text/plain": [
       "   Unique ID Patient Name Vaccine Type Date of Birth  Date of Vaccination\n",
       "0          1         Mike          LMN           NaT  2022-05-11 00:00:00\n",
       "1          2    Jonnathan          XYZ    1997-12-13           2021-13-13\n",
       "2          3     Cristina          ABC    1998-03-12  2022-03-12 00:00:00"
      ]
     },
     "execution_count": 62,
     "metadata": {},
     "output_type": "execute_result"
    }
   ],
   "source": [
    "# Raw Dataset of Australia Data\n",
    "pf_AUS = pd.read_excel(r'C:\\Users\\Anupam Saha\\Desktop\\Incubyte DE Assessment\\SampleInputData\\AUS.xlsx')\n",
    "pf_AUS"
   ]
  },
  {
   "cell_type": "code",
   "execution_count": 131,
   "id": "f2f8ca53",
   "metadata": {},
   "outputs": [
    {
     "data": {
      "text/html": [
       "<div>\n",
       "<style scoped>\n",
       "    .dataframe tbody tr th:only-of-type {\n",
       "        vertical-align: middle;\n",
       "    }\n",
       "\n",
       "    .dataframe tbody tr th {\n",
       "        vertical-align: top;\n",
       "    }\n",
       "\n",
       "    .dataframe thead th {\n",
       "        text-align: right;\n",
       "    }\n",
       "</style>\n",
       "<table border=\"1\" class=\"dataframe\">\n",
       "  <thead>\n",
       "    <tr style=\"text-align: right;\">\n",
       "      <th></th>\n",
       "      <th>Unique ID</th>\n",
       "      <th>Patient Name</th>\n",
       "      <th>Vaccine Type</th>\n",
       "      <th>Date of Birth</th>\n",
       "      <th>Date of Vaccination</th>\n",
       "    </tr>\n",
       "  </thead>\n",
       "  <tbody>\n",
       "    <tr>\n",
       "      <th>0</th>\n",
       "      <td>1</td>\n",
       "      <td>Mike</td>\n",
       "      <td>LMN</td>\n",
       "      <td>NaT</td>\n",
       "      <td>2022-05-11</td>\n",
       "    </tr>\n",
       "    <tr>\n",
       "      <th>1</th>\n",
       "      <td>2</td>\n",
       "      <td>Jonnathan</td>\n",
       "      <td>XYZ</td>\n",
       "      <td>1997-12-13</td>\n",
       "      <td>NaT</td>\n",
       "    </tr>\n",
       "    <tr>\n",
       "      <th>2</th>\n",
       "      <td>3</td>\n",
       "      <td>Cristina</td>\n",
       "      <td>ABC</td>\n",
       "      <td>1998-03-12</td>\n",
       "      <td>2022-03-12</td>\n",
       "    </tr>\n",
       "  </tbody>\n",
       "</table>\n",
       "</div>"
      ],
      "text/plain": [
       "   Unique ID Patient Name Vaccine Type Date of Birth Date of Vaccination\n",
       "0          1         Mike          LMN           NaT          2022-05-11\n",
       "1          2    Jonnathan          XYZ    1997-12-13                 NaT\n",
       "2          3     Cristina          ABC    1998-03-12          2022-03-12"
      ]
     },
     "execution_count": 131,
     "metadata": {},
     "output_type": "execute_result"
    }
   ],
   "source": [
    "pf_AUS['Date of Vaccination'] = pd.to_datetime(pf_AUS['Date of Vaccination'],errors ='coerce')\n",
    "pf_AUS"
   ]
  },
  {
   "cell_type": "code",
   "execution_count": 130,
   "id": "f959facf",
   "metadata": {},
   "outputs": [],
   "source": [
    "#Converting the pandas Dataframe to Pyspark Dataframe\n",
    "from pyspark.sql.types import *\n",
    "spark.conf.set(\"spark.sql.execution.arrow.enabled\",\"true\")       \n",
    "df=spark.createDataFrame(pf_AUS)"
   ]
  },
  {
   "cell_type": "code",
   "execution_count": 129,
   "id": "374fcf01",
   "metadata": {},
   "outputs": [
    {
     "name": "stdout",
     "output_type": "stream",
     "text": [
      "+---------+---------------+-------+------------+\n",
      "|     Name|VaccinationType|Country|Free or Paid|\n",
      "+---------+---------------+-------+------------+\n",
      "|     Mike|            LMN|    AUS|           F|\n",
      "|Jonnathan|            XYZ|    AUS|           F|\n",
      "| Cristina|            ABC|    AUS|           F|\n",
      "+---------+---------------+-------+------------+\n",
      "\n"
     ]
    }
   ],
   "source": [
    "#Data Cleaning of Australia Dataset\n",
    "from pyspark.sql.types import *\n",
    "from pyspark.sql.functions import lit\n",
    "spark.conf.set(\"spark.sql.execution.arrow.enabled\",\"true\")       \n",
    "df=spark.createDataFrame(pf_AUS)\n",
    "df_AUS =df.withColumn(\"Country\", lit('AUS'))\n",
    "df_AUS =df_AUS.withColumn(\"Free or Paid\", lit('F'))\n",
    "df_AUS = df_AUS.drop('Unique ID','Date of Birth','Date of Vaccination')\n",
    "df_AUS=df_AUS.withColumnRenamed(\"Vaccine Type\",\"VaccinationType\")\n",
    "df_AUS=df_AUS.withColumnRenamed(\"Patient Name\",\"Name\")\n",
    "df_AUS.show()"
   ]
  },
  {
   "cell_type": "code",
   "execution_count": 132,
   "id": "d00d848c",
   "metadata": {},
   "outputs": [
    {
     "name": "stdout",
     "output_type": "stream",
     "text": [
      "+------+---------------+-------+------------+\n",
      "|  Name|VaccinationType|Country|Free or Paid|\n",
      "+------+---------------+-------+------------+\n",
      "| Vikas|            XYZ|    IND|           F|\n",
      "| Rahul|            ABC|    IND|           P|\n",
      "|Sameer|            ABC|    IND|           F|\n",
      "+------+---------------+-------+------------+\n",
      "\n"
     ]
    }
   ],
   "source": [
    "####Data Cleaning of India Dataset\n",
    "from pyspark.sql.functions import lit\n",
    "pf_IND=spark.read.csv(r'C:\\Users\\Anupam Saha\\Desktop\\Incubyte DE Assessment\\SampleInputData\\IND.csv',header=True,inferSchema=True)\n",
    "df_IND=pf_IND.withColumn(\"Country\", lit('IND'))\n",
    "df_IND = df_IND.drop('ID','DOB','VaccinationDate')\n",
    "df_IND = df_IND.select('Name','VaccinationType','Country','Free or Paid')\n",
    "df_IND.show()"
   ]
  },
  {
   "cell_type": "code",
   "execution_count": 133,
   "id": "74138807",
   "metadata": {},
   "outputs": [
    {
     "data": {
      "text/html": [
       "<div>\n",
       "<style scoped>\n",
       "    .dataframe tbody tr th:only-of-type {\n",
       "        vertical-align: middle;\n",
       "    }\n",
       "\n",
       "    .dataframe tbody tr th {\n",
       "        vertical-align: top;\n",
       "    }\n",
       "\n",
       "    .dataframe thead th {\n",
       "        text-align: right;\n",
       "    }\n",
       "</style>\n",
       "<table border=\"1\" class=\"dataframe\">\n",
       "  <thead>\n",
       "    <tr style=\"text-align: right;\">\n",
       "      <th></th>\n",
       "      <th>ID</th>\n",
       "      <th>Name</th>\n",
       "      <th>VaccinationType</th>\n",
       "      <th>VaccinationDate</th>\n",
       "    </tr>\n",
       "  </thead>\n",
       "  <tbody>\n",
       "    <tr>\n",
       "      <th>0</th>\n",
       "      <td>1</td>\n",
       "      <td>Sam</td>\n",
       "      <td>EFG</td>\n",
       "      <td>6152022</td>\n",
       "    </tr>\n",
       "    <tr>\n",
       "      <th>1</th>\n",
       "      <td>2</td>\n",
       "      <td>John</td>\n",
       "      <td>XYZ</td>\n",
       "      <td>1052022</td>\n",
       "    </tr>\n",
       "    <tr>\n",
       "      <th>2</th>\n",
       "      <td>3</td>\n",
       "      <td>Mike</td>\n",
       "      <td>ABC</td>\n",
       "      <td>12282021</td>\n",
       "    </tr>\n",
       "  </tbody>\n",
       "</table>\n",
       "</div>"
      ],
      "text/plain": [
       "   ID  Name VaccinationType  VaccinationDate\n",
       "0   1   Sam             EFG          6152022\n",
       "1   2  John             XYZ          1052022\n",
       "2   3  Mike             ABC         12282021"
      ]
     },
     "execution_count": 133,
     "metadata": {},
     "output_type": "execute_result"
    }
   ],
   "source": [
    "#Raw Data of USA dataset\n",
    "pf_USA = pd.read_csv(r'C:\\Users\\Anupam Saha\\Desktop\\Incubyte DE Assessment\\SampleInputData\\USA.csv')\n",
    "pf_USA"
   ]
  },
  {
   "cell_type": "code",
   "execution_count": 134,
   "id": "96e16992",
   "metadata": {},
   "outputs": [
    {
     "data": {
      "text/html": [
       "<div>\n",
       "<style scoped>\n",
       "    .dataframe tbody tr th:only-of-type {\n",
       "        vertical-align: middle;\n",
       "    }\n",
       "\n",
       "    .dataframe tbody tr th {\n",
       "        vertical-align: top;\n",
       "    }\n",
       "\n",
       "    .dataframe thead th {\n",
       "        text-align: right;\n",
       "    }\n",
       "</style>\n",
       "<table border=\"1\" class=\"dataframe\">\n",
       "  <thead>\n",
       "    <tr style=\"text-align: right;\">\n",
       "      <th></th>\n",
       "      <th>ID</th>\n",
       "      <th>Name</th>\n",
       "      <th>VaccinationType</th>\n",
       "      <th>VaccinationDate</th>\n",
       "    </tr>\n",
       "  </thead>\n",
       "  <tbody>\n",
       "    <tr>\n",
       "      <th>0</th>\n",
       "      <td>1</td>\n",
       "      <td>Sam</td>\n",
       "      <td>EFG</td>\n",
       "      <td>2022-06-15</td>\n",
       "    </tr>\n",
       "    <tr>\n",
       "      <th>1</th>\n",
       "      <td>2</td>\n",
       "      <td>John</td>\n",
       "      <td>XYZ</td>\n",
       "      <td>2022-10-05</td>\n",
       "    </tr>\n",
       "    <tr>\n",
       "      <th>2</th>\n",
       "      <td>3</td>\n",
       "      <td>Mike</td>\n",
       "      <td>ABC</td>\n",
       "      <td>2021-12-28</td>\n",
       "    </tr>\n",
       "  </tbody>\n",
       "</table>\n",
       "</div>"
      ],
      "text/plain": [
       "   ID  Name VaccinationType VaccinationDate\n",
       "0   1   Sam             EFG      2022-06-15\n",
       "1   2  John             XYZ      2022-10-05\n",
       "2   3  Mike             ABC      2021-12-28"
      ]
     },
     "execution_count": 134,
     "metadata": {},
     "output_type": "execute_result"
    }
   ],
   "source": [
    "# Data filtering of the dataset\n",
    "pf_USA['VaccinationDate'] = pd.to_datetime(pf_USA['VaccinationDate'],format='%m%d%Y')\n",
    "pf_USA"
   ]
  },
  {
   "cell_type": "code",
   "execution_count": 70,
   "id": "4a208dec",
   "metadata": {},
   "outputs": [],
   "source": [
    "#Converting the pandas dataframe to pyspark dataframe\n",
    "from pyspark.sql.types import *\n",
    "spark.conf.set(\"spark.sql.execution.arrow.enabled\",\"true\")       \n",
    "pf1_USA=spark.createDataFrame(pf_USA)"
   ]
  },
  {
   "cell_type": "code",
   "execution_count": 135,
   "id": "05675e04",
   "metadata": {},
   "outputs": [
    {
     "name": "stdout",
     "output_type": "stream",
     "text": [
      "+----+---------------+-------+------------+\n",
      "|Name|VaccinationType|Country|Free or Paid|\n",
      "+----+---------------+-------+------------+\n",
      "| Sam|            EFG|    USA|           F|\n",
      "|John|            XYZ|    USA|           F|\n",
      "|Mike|            ABC|    USA|           F|\n",
      "+----+---------------+-------+------------+\n",
      "\n"
     ]
    }
   ],
   "source": [
    "#Data Cleaning of USA Dataset\n",
    "from pyspark.sql.functions import lit\n",
    "df_USA =pf1_USA.withColumn(\"Country\", lit('USA'))\n",
    "df_USA =df_USA.withColumn(\"Free or Paid\", lit('F'))\n",
    "df_USA = df_USA.drop('ID','VaccinationDate')\n",
    "df_USA.show()"
   ]
  },
  {
   "cell_type": "code",
   "execution_count": 137,
   "id": "288180ae",
   "metadata": {},
   "outputs": [
    {
     "name": "stdout",
     "output_type": "stream",
     "text": [
      "+---------+---------------+-------+------------+\n",
      "|     Name|VaccinationType|Country|Free or Paid|\n",
      "+---------+---------------+-------+------------+\n",
      "|     Mike|            LMN|    AUS|           F|\n",
      "|Jonnathan|            XYZ|    AUS|           F|\n",
      "| Cristina|            ABC|    AUS|           F|\n",
      "|    Vikas|            XYZ|    IND|           F|\n",
      "|    Rahul|            ABC|    IND|           P|\n",
      "|   Sameer|            ABC|    IND|           F|\n",
      "|      Sam|            EFG|    USA|           F|\n",
      "|     John|            XYZ|    USA|           F|\n",
      "|     Mike|            ABC|    USA|           F|\n",
      "+---------+---------------+-------+------------+\n",
      "\n"
     ]
    }
   ],
   "source": [
    "##Data merging into single source of truth\n",
    "df9 = df_AUS.union(df_IND)\n",
    "df = df9.union(df_USA)\n",
    "df.show()"
   ]
  },
  {
   "cell_type": "code",
   "execution_count": 138,
   "id": "c447ad19",
   "metadata": {},
   "outputs": [
    {
     "name": "stdout",
     "output_type": "stream",
     "text": [
      "+-------+---------------+------------------+\n",
      "|Country|VaccinationType|No of Vaccinations|\n",
      "+-------+---------------+------------------+\n",
      "|    AUS|            ABC|                 1|\n",
      "|    USA|            ABC|                 1|\n",
      "|    IND|            ABC|                 2|\n",
      "|    USA|            EFG|                 1|\n",
      "|    AUS|            LMN|                 1|\n",
      "|    AUS|            XYZ|                 1|\n",
      "|    USA|            XYZ|                 1|\n",
      "|    IND|            XYZ|                 1|\n",
      "+-------+---------------+------------------+\n",
      "\n"
     ]
    }
   ],
   "source": [
    "####Total vaccination count by country and vaccination type (Metrix 1)\n",
    "import pyspark.sql.functions as f\n",
    "df11=df.groupBy('VaccinationType','Country').count().select('Country','VaccinationType',f.col('count').alias('No of Vaccinations')).orderBy('VaccinationType')\n",
    "df11.show()"
   ]
  },
  {
   "cell_type": "code",
   "execution_count": 113,
   "id": "8bcd477c",
   "metadata": {},
   "outputs": [
    {
     "name": "stdout",
     "output_type": "stream",
     "text": [
      "+-------+-----------------+\n",
      "|Country|No of Vaccination|\n",
      "+-------+-----------------+\n",
      "|    AUS|                3|\n",
      "|    IND|                3|\n",
      "|    USA|                3|\n",
      "+-------+-----------------+\n",
      "\n"
     ]
    }
   ],
   "source": [
    "# Total Number of vaccination received per country\n",
    "import pyspark.sql.functions as f\n",
    "df12=df.groupBy('Country').count().select('Country',f.col('count').alias('No of Vaccination'))\n",
    "df12.show()"
   ]
  },
  {
   "cell_type": "code",
   "execution_count": 139,
   "id": "2e5cb029",
   "metadata": {},
   "outputs": [
    {
     "name": "stdout",
     "output_type": "stream",
     "text": [
      "+-------+-----------------+----------+\n",
      "|Country|No of Vaccination|Population|\n",
      "+-------+-----------------+----------+\n",
      "|    AUS|                3|        26|\n",
      "|    IND|                3|      1393|\n",
      "|    USA|                3|       329|\n",
      "+-------+-----------------+----------+\n",
      "\n"
     ]
    }
   ],
   "source": [
    "# Total population of the countries\n",
    "pop = {'Country':['AUS','IND','USA'],'Population':[26,1393,329]}\n",
    "dfg = pd.DataFrame(pop)\n",
    "dfg1 = spark.createDataFrame(dfg)\n",
    "joinedDF = df12.join(dfg1.select('Country','Population'), ['Country'])\n",
    "joinedDF.show() "
   ]
  },
  {
   "cell_type": "code",
   "execution_count": 140,
   "id": "6a2a66cf",
   "metadata": {},
   "outputs": [
    {
     "name": "stdout",
     "output_type": "stream",
     "text": [
      "+-------+--------------------------+\n",
      "|Country|% of vaccinated population|\n",
      "+-------+--------------------------+\n",
      "|    AUS|        11.538461538461538|\n",
      "|    IND|       0.21536252692031585|\n",
      "|    USA|         0.911854103343465|\n",
      "+-------+--------------------------+\n",
      "\n"
     ]
    }
   ],
   "source": [
    "#% vaccination in each country(metrix 2)\n",
    "import pyspark.sql.functions as f\n",
    "joinedDF = joinedDF.withColumn(\n",
    "    \"% of vaccinated population\", \n",
    "    f.col('No of Vaccination')/f.col('Population') *100\n",
    ")\n",
    "joinedDF = joinedDF.drop('No of Vaccination','Population')\n",
    "joinedDF.show()"
   ]
  },
  {
   "cell_type": "code",
   "execution_count": 93,
   "id": "33c9fedc",
   "metadata": {},
   "outputs": [
    {
     "name": "stdout",
     "output_type": "stream",
     "text": [
      "+---------+---------------+-------+------------+\n",
      "|     Name|VaccinationType|Country|Free or Paid|\n",
      "+---------+---------------+-------+------------+\n",
      "|     Mike|            LMN|    AUS|           F|\n",
      "|Jonnathan|            XYZ|    AUS|           F|\n",
      "| Cristina|            ABC|    AUS|           F|\n",
      "|    Vikas|            XYZ|    IND|           F|\n",
      "|    Rahul|            ABC|    IND|           P|\n",
      "|   Sameer|            ABC|    IND|           F|\n",
      "|      Sam|            EFG|    USA|           F|\n",
      "|     John|            XYZ|    USA|           F|\n",
      "|     Mike|            ABC|    USA|           F|\n",
      "+---------+---------------+-------+------------+\n",
      "\n"
     ]
    }
   ],
   "source": [
    "df.show()"
   ]
  },
  {
   "cell_type": "code",
   "execution_count": 141,
   "id": "2cea900b",
   "metadata": {},
   "outputs": [
    {
     "name": "stdout",
     "output_type": "stream",
     "text": [
      "+------------+-------+------+\n",
      "|Free or Paid|Country|counts|\n",
      "+------------+-------+------+\n",
      "|           F|    AUS|     3|\n",
      "|           F|    IND|     2|\n",
      "|           F|    USA|     3|\n",
      "+------------+-------+------+\n",
      "\n"
     ]
    }
   ],
   "source": [
    "#Total number of free vaccinated population\n",
    "import pyspark.sql.functions as f\n",
    "df4 =df.groupBy('Free or Paid','Country').count().select('Free or Paid','Country',f.col('count').alias('counts')).where(df['Free or Paid']=='F')\n",
    "df4.show()"
   ]
  },
  {
   "cell_type": "code",
   "execution_count": 128,
   "id": "02c6cd23",
   "metadata": {},
   "outputs": [
    {
     "name": "stdout",
     "output_type": "stream",
     "text": [
      "+-------+-----------------+\n",
      "|Country|   % contribution|\n",
      "+-------+-----------------+\n",
      "|    AUS|            100.0|\n",
      "|    IND|66.66666666666666|\n",
      "|    USA|            100.0|\n",
      "+-------+-----------------+\n",
      "\n"
     ]
    }
   ],
   "source": [
    "#% vaccination contribution by country(metrix 3) \n",
    "import pyspark.sql.functions as f\n",
    "df4 = df4.withColumn(\n",
    "    \"% contribution\", \n",
    "    f.col('counts')/3 *100\n",
    ")\n",
    "df4 = df4.drop('Free or Paid','counts')\n",
    "df4.show()"
   ]
  },
  {
   "cell_type": "code",
   "execution_count": null,
   "id": "5d822c0c",
   "metadata": {},
   "outputs": [],
   "source": []
  }
 ],
 "metadata": {
  "kernelspec": {
   "display_name": "Python 3 (ipykernel)",
   "language": "python",
   "name": "python3"
  },
  "language_info": {
   "codemirror_mode": {
    "name": "ipython",
    "version": 3
   },
   "file_extension": ".py",
   "mimetype": "text/x-python",
   "name": "python",
   "nbconvert_exporter": "python",
   "pygments_lexer": "ipython3",
   "version": "3.9.12"
  }
 },
 "nbformat": 4,
 "nbformat_minor": 5
}
